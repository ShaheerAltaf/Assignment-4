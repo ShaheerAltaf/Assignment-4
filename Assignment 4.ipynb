{
 "cells": [
  {
   "cell_type": "code",
   "execution_count": 1,
   "id": "022f0763",
   "metadata": {},
   "outputs": [
    {
     "name": "stdout",
     "output_type": "stream",
     "text": [
      "Select operation.\n",
      "Add\n",
      "Subtract\n",
      "Multiply\n",
      "Divide\n",
      "Power\n",
      "Enter your operation: *\n",
      "Enter first number: 2\n",
      "Enter second number: 9\n",
      "2.0 * 9.0 = 18.0\n",
      "Let's do next calculation? (yes/no): yes\n",
      "Enter your operation: +\n",
      "Enter first number: 99\n",
      "Enter second number: 35\n",
      "99.0 + 35.0 = 134.0\n",
      "Let's do next calculation? (yes/no): no\n"
     ]
    }
   ],
   "source": [
    "def add(x, y):\n",
    "    return x + y\n",
    "\n",
    "def subtract(x, y):\n",
    "    return x - y\n",
    "\n",
    "def multiply(x, y):\n",
    "    return x * y\n",
    "\n",
    "def divide(x, y):\n",
    "    return x / y\n",
    "\n",
    "def power(x,y):\n",
    "    return x**y\n",
    "\n",
    "\n",
    "print(\"Select operation.\")\n",
    "print(\"Add\")\n",
    "print(\"Subtract\")\n",
    "print(\"Multiply\")\n",
    "print(\"Divide\")\n",
    "print(\"Power\")\n",
    "\n",
    "while True:\n",
    "    choice = input(\"Enter your operation: \")\n",
    "\n",
    "    if choice in ('+', '-', '*', '/' ,'^'):\n",
    "        num1 = float(input(\"Enter first number: \"))\n",
    "        num2 = float(input(\"Enter second number: \"))\n",
    "\n",
    "        if choice == '+':\n",
    "            print(num1, \"+\", num2, \"=\", add(num1, num2))\n",
    "\n",
    "        elif choice == '-':\n",
    "            print(num1, \"-\", num2, \"=\", subtract(num1, num2))\n",
    "\n",
    "        elif choice == '*':\n",
    "            print(num1, \"*\", num2, \"=\", multiply(num1, num2))\n",
    "        elif choice == '/':\n",
    "            print(num1, \"/\", num2, \"=\", divide(num1, num2))\n",
    "            \n",
    "        elif choice =='^':\n",
    "            print(num1, \"^\", num2, \"=\", power(num1,num2))\n",
    "        \n",
    "        next_calculation = input(\"Let's do next calculation? (yes/no): \")\n",
    "        if next_calculation == \"no\":\n",
    "          break\n",
    "    \n",
    "    else:\n",
    "        print(\"Invalid Input\")"
   ]
  },
  {
   "cell_type": "code",
   "execution_count": 2,
   "id": "92e42716",
   "metadata": {},
   "outputs": [
    {
     "name": "stdout",
     "output_type": "stream",
     "text": [
      "3\n",
      "7\n",
      "4\n",
      "10\n"
     ]
    }
   ],
   "source": [
    "list = [\"Shaheer\", \"Altaf\",3,7, 4, \"Hello\",10] \n",
    "for x in list: \n",
    "    if type(x) == int: \n",
    "        print(x)"
   ]
  },
  {
   "cell_type": "code",
   "execution_count": 3,
   "id": "74e79dc6",
   "metadata": {},
   "outputs": [
    {
     "data": {
      "text/plain": [
       "{1: 'Shaheer', 2: 1, 3: 'Altaf', 4: 'hello'}"
      ]
     },
     "execution_count": 3,
     "metadata": {},
     "output_type": "execute_result"
    }
   ],
   "source": [
    "dict = {1:\"Shaheer\", 2: 1, 3:\"Altaf\"}\n",
    "dict[4]=\"hello\"\n",
    "dict"
   ]
  },
  {
   "cell_type": "code",
   "execution_count": 4,
   "id": "d68cc578",
   "metadata": {},
   "outputs": [
    {
     "name": "stdout",
     "output_type": "stream",
     "text": [
      "293\n"
     ]
    }
   ],
   "source": [
    "dict1 = {'data1':100,'data2':-54,'data3':247}\n",
    "print(sum(dict1.values()))"
   ]
  },
  {
   "cell_type": "code",
   "execution_count": 5,
   "id": "359159ad",
   "metadata": {},
   "outputs": [
    {
     "name": "stdout",
     "output_type": "stream",
     "text": [
      "22 111 "
     ]
    }
   ],
   "source": [
    "list1=[22,111,2312,\"Shaheer\",22,111,\"Altaf\"]\n",
    "list2=[]\n",
    "for i in list1:\n",
    "    if i not in list2:\n",
    "        list2.append(i)\n",
    "    else:\n",
    "        print(i,end=' ')"
   ]
  },
  {
   "cell_type": "code",
   "execution_count": 6,
   "id": "5aae98fb",
   "metadata": {},
   "outputs": [
    {
     "name": "stdout",
     "output_type": "stream",
     "text": [
      "Key is present in the dictionary\n",
      "Key is not present in the dictionary\n"
     ]
    }
   ],
   "source": [
    "d = {1: 10, 2:54, 3: 330, 4: 585, 5: 122, 6: 231}\n",
    "def is_key_present(x):\n",
    "  if x in d:\n",
    "      print('Key is present in the dictionary')\n",
    "  else:\n",
    "      print('Key is not present in the dictionary')\n",
    "is_key_present(5)\n",
    "is_key_present(9)"
   ]
  },
  {
   "cell_type": "code",
   "execution_count": null,
   "id": "d4487437",
   "metadata": {},
   "outputs": [],
   "source": []
  }
 ],
 "metadata": {
  "kernelspec": {
   "display_name": "Python 3",
   "language": "python",
   "name": "python3"
  },
  "language_info": {
   "codemirror_mode": {
    "name": "ipython",
    "version": 3
   },
   "file_extension": ".py",
   "mimetype": "text/x-python",
   "name": "python",
   "nbconvert_exporter": "python",
   "pygments_lexer": "ipython3",
   "version": "3.8.8"
  }
 },
 "nbformat": 4,
 "nbformat_minor": 5
}
